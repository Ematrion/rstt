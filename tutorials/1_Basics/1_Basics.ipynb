{
 "cells": [
  {
   "cell_type": "markdown",
   "id": "10609975-6fd2-4059-899d-f21cbf639fb1",
   "metadata": {},
   "source": [
    "# RSTT Tutorial 1\n",
    "## Concept, Component, Usage and Workflow\n",
    "\n",
    "Welcome to the RSTT package introduction and thank you for your interest.\n",
    "\n",
    "Competition simulation is build arround the following concept:\n",
    "- **Participants**: players, competitors, athletes.\n",
    "- **Match**: game, confrontation, encounter.\n",
    "- **Score** (and Solver): Outcome, result of a match.\n",
    "- **Ranking**: A list of player ordered by infered ratings.\n",
    "- **Scheduler**: automated game generation worflow"
   ]
  },
  {
   "cell_type": "markdown",
   "id": "03625935-1990-4d1f-a7d5-480c40d496c4",
   "metadata": {},
   "source": [
    "## 1. Player\n",
    "\n",
    "In RSTT, any object providing a .name() and a .level() method are [SPlayer](https://rstt.readthedocs.io/en/latest/rstt.html#rstt.stypes.SPlayer), they can be register in Rankings, take part in Competition and play games\n",
    "\n",
    "When the **strenght of player is constant** you can use the [BasicPlayer](https://rstt.readthedocs.io/en/latest/rstt.player.html#rstt.player.basicplayer.BasicPlayer), but there are other alternatives."
   ]
  },
  {
   "cell_type": "code",
   "execution_count": 1,
   "id": "90237231-aab6-4b37-abab-0ffd3992580e",
   "metadata": {},
   "outputs": [
    {
     "name": "stdout",
     "output_type": "stream",
     "text": [
      "Ready? 1000\n"
     ]
    }
   ],
   "source": [
    "from rstt import BasicPlayer\n",
    "\n",
    "p1 = BasicPlayer(name='Ready?', level=9000)\n",
    "p2 = BasicPlayer(name='Fight!', level=1000)\n",
    "\n",
    "print(p1.name(), p2.level())"
   ]
  },
  {
   "cell_type": "markdown",
   "id": "51622e31-e6bc-4666-a306-002259827161",
   "metadata": {},
   "source": [
    "## 2. Match\n",
    "\n",
    "Objects providing a .players() and a .scores() methords are called [SMatch](https://rstt.readthedocs.io/en/latest/rstt.html#rstt.stypes.SMatch). They model games as an encounter between competitors with an outcome. The [Duel](https://rstt.readthedocs.io/en/latest/rstt.game.html#rstt.game.match.Duel) class is usefull for **versus** type of game/sport - like Chess or Hockey.\n",
    "\n",
    "**Note**: In RSTT a match does not reflect the sport or game rules. It is an encounter. The title rules, mechanism is reflected by the Solver (See cell [Play Games](#outcome))."
   ]
  },
  {
   "cell_type": "code",
   "execution_count": 2,
   "id": "eba2b2c5-8560-478f-a8ef-99050b18b785",
   "metadata": {},
   "outputs": [
    {
     "name": "stdout",
     "output_type": "stream",
     "text": [
      "Ready? Fight!\n",
      "Match participants: [Player - name: Ready?, level: 9000, Player - name: Fight!, level: 1000]\n",
      "Match score: None\n",
      "The match has not yet been played:  True\n"
     ]
    }
   ],
   "source": [
    "from rstt import Duel\n",
    "\n",
    "# create an encounter\n",
    "duel = Duel(player1=p1, player2=p2)\n",
    "\n",
    "# find opponent\n",
    "print(p1.name(), duel.opponent(p1))\n",
    "\n",
    "# get involved players\n",
    "print('Match participants:', duel.players())\n",
    "\n",
    "# Get the match outcome\n",
    "print('Match score:', duel.scores())\n",
    "\n",
    "# Has the game been played, or not yet ?\n",
    "print('The match has not yet been played: ', duel.live())"
   ]
  },
  {
   "cell_type": "markdown",
   "id": "c5751171-455a-4895-a865-4d8cf7bff360",
   "metadata": {},
   "source": [
    "## 3. Play Games\n",
    "\n",
    "### 3.1 Score: Game Outcome\n",
    "The Outcome of a game is modeled by a [Score](https://rstt.readthedocs.io/en/latest/rstt.html#rstt.stypes.Score), which essentialy is a list of float values indicating the *score* of each participants in a match. The Package provides WIN, LOSE, DRAW aliases for direct confrontations.\n",
    "\n",
    "### 3.2 Solver & Outcome Generation <a id='outcome'></a>\n",
    "Score are not supposed to be *manualy* assigned to a match. [Solver](https://rstt.readthedocs.io/en/latest/rstt.html#rstt.stypes.Solver) have this responsaility. It is meaningfull to use solver that decide the score depending on the players levels.\n",
    "Obviously, match can only have one outcome and can not be *solved* twice. This can be sometimes annoying in an interactive environement like a notebook. But it is a feature ensuring data integrity. "
   ]
  },
  {
   "cell_type": "code",
   "execution_count": 3,
   "id": "7c954eb2-6bef-4d33-95e4-0e7ec63e7089",
   "metadata": {},
   "outputs": [
    {
     "name": "stdout",
     "output_type": "stream",
     "text": [
      "Duel score: [1.0, 0.0]\n",
      "Score of player: Ready?: 1.0\n",
      "Winner of the game: Ready?\n",
      "Loser of the game: Fight!\n",
      "The game has been played: True\n",
      "\n",
      "RuntimeError\n",
      "Attempt to assign a score to a game that has already one <class 'rstt.game.match.Duel'> - teams: [[Player - name: Ready?, level: 9000], [Player - name: Fight!, level: 1000]], scores: [1.0, 0.0]\n"
     ]
    }
   ],
   "source": [
    "from rstt import BetterWin\n",
    "\n",
    "# Solver needs to be instanciated\n",
    "better = BetterWin()\n",
    "\n",
    "# Assign an outcome to a match\n",
    "better.solve(duel)\n",
    "\n",
    "# access match score\n",
    "print('Duel score:', duel.scores())\n",
    "print(f'Score of player: {duel.player1().name()}: {duel.score(duel.player1())}')\n",
    "\n",
    "# get the winner and the lose (duel method)\n",
    "print('Winner of the game:', duel.winner())\n",
    "print('Loser of the game:', duel.loser())\n",
    "\n",
    "# after being solver, the game is no longer live\n",
    "print('The game has been played:', not duel.live())\n",
    "\n",
    "print('\\nRuntimeError')\n",
    "try:\n",
    "    # Be carefull when rerunning code portions in an interactive environement\n",
    "    #\n",
    "    better.solve(duel)\n",
    "except RuntimeError as e:\n",
    "    print(e)"
   ]
  },
  {
   "cell_type": "markdown",
   "id": "19fe1fcc-9d28-4dca-b77e-56141c3a9a9a",
   "metadata": {},
   "source": [
    "## 4. Ranking\n",
    "\n",
    "[Ranking](https://rstt.readthedocs.io/en/latest/rstt.ranking.html#module-rstt.ranking.ranking) in RSTT is a quiet complex construction that deserves its own formal and technical description. And realy, this does not fit in an introduction. But you know what a ranking is right?\n",
    "\n",
    "- Ranking behaves as a list of player.\n",
    "- Ranking behaves as a dictionnary mapping player with their index in the list\n",
    "- Player in a ranking have a rank, point and a rating.\n",
    "- Player's point are computed based on their rating\n",
    "- A ranking can be updated, as a result player's rating might be affected.\n",
    "- Players are automaticaly sorted using their point\n",
    "- you can display a ranking to the standard output\n",
    "\n",
    "There are many different ranking implemented. The [BTRanking](https://rstt.readthedocs.io/en/latest/rstt.ranking.standard.html#rstt.ranking.standard.consensus.BTRanking) is a consensual ranking that rates players by levels.\n",
    "\n",
    "**Note:** index/rank start at 0, like list - unlike 'real life' ranking where the highest rank is 1. "
   ]
  },
  {
   "cell_type": "code",
   "execution_count": 4,
   "id": "fc9c61bb-d1ac-4ede-9aa0-a56bec2c21a6",
   "metadata": {},
   "outputs": [
    {
     "name": "stdout",
     "output_type": "stream",
     "text": [
      "Ranking information of: Ready? \n",
      "index 0 \n",
      "rank 0 (alias for index) \n",
      "point 9000.0 (used to compute the player's rank) \n",
      "rating 9000 (used to compute the player's point)\n",
      "\n",
      "----------- Player Level -----------\n",
      "   0.               Ready?       9000\n",
      "   1.               Fight!       1000\n"
     ]
    }
   ],
   "source": [
    "from rstt import BTRanking\n",
    "\n",
    "# create a ranking\n",
    "btr = BTRanking('Player Level', players=[p1, p2])\n",
    "\n",
    "# get a player information\n",
    "print('Ranking information of:', p1.name(),\n",
    "      '\\nindex', btr[p1],\n",
    "      '\\nrank', btr.rank(p1), '(alias for index)',\n",
    "      '\\npoint', btr.point(p1), '(used to compute the player\\'s rank)',\n",
    "      '\\nrating', btr.rating(p1), '(used to compute the player\\'s point)\\n')\n",
    "\n",
    "# plot a ranking\n",
    "btr.plot()"
   ]
  },
  {
   "cell_type": "markdown",
   "id": "ecc572f3-22da-4f39-b30b-f96497d07282",
   "metadata": {
    "editable": true,
    "slideshow": {
     "slide_type": ""
    },
    "tags": []
   },
   "source": [
    "## 5. Scheduler\n",
    "\n",
    "Any worklfow generating automaticaly games encounter is considered a Scheduler. There is not a type, class or protocl defining it in the package. It simply is a terminology you may see in the documentation. The notion covers tournament format such as round-robin and live matchmaking services in online-video games. \n",
    "\n",
    "[Competition](https://rstt.readthedocs.io/en/latest/rstt.scheduler.tournament.html#rstt.scheduler.tournament.competition.Competition) is an abstract class and defines Scheduler *bounded in time and space*: Competition have a clear defined amount of players, number of games, a start time and an end. Competition produces games and output a standing, the participant achievements. A round-robin is a competition, online live matchakings are not.\n",
    "\n",
    "To implement a Competition you need to provide:\n",
    "- a name: which is assumed to be unique, Player should not participate twice in the same Competition\n",
    "- a raking as seeding: which helps deciding who faces who during the event\n",
    "- a solver: which decide the matchs outcomes\n",
    "\n",
    "At some point you need to *register* players as event participants. The seeding do not define who plays, it is only a matching tool during the event.\n",
    "Then you need to run the competition and let the magic operate. You end up with a collection of games and a final standing.\n",
    "\n",
    "**Note** It is not possible to specify the game mode - Competition produces Duel encounters. "
   ]
  },
  {
   "cell_type": "code",
   "execution_count": 5,
   "id": "e1e94155-fe69-4995-807b-9f7e95f19cf3",
   "metadata": {},
   "outputs": [
    {
     "name": "stdout",
     "output_type": "stream",
     "text": [
      "Tournament Example started: False ended: False\n",
      "Event has started: True \n",
      "Event is live:  False \n",
      "Event has finished: True \n",
      "A total of  15 games were played \n",
      "The winner is: Eric Stone \n",
      "Seending do not define who participate:  True\n"
     ]
    }
   ],
   "source": [
    "from rstt import Player, SingleEliminationBracket\n",
    "\n",
    "# more people more fun\n",
    "competitors = Player.create(nb=16)\n",
    "\n",
    "# one event \n",
    "tournament = SingleEliminationBracket(name='Example', seeding=btr, solver=BetterWin())\n",
    "\n",
    "# add players - unseeded players are treated as being at the bottom of the ranking\n",
    "tournament.registration(competitors)\n",
    "print('Tournament Example started:', tournament.started(), 'ended:', tournament.over())\n",
    "\n",
    "# automatic workflow\n",
    "tournament.run()\n",
    "\n",
    "# some cool 'get features'\n",
    "print('Event has started:', tournament.started(),\n",
    "      '\\nEvent is live: ', tournament.live(),\n",
    "      '\\nEvent has finished:', tournament.over(),\n",
    "      '\\nA total of ', len(tournament.games()), 'games were played',\n",
    "      '\\nThe winner is:', tournament.top(1)[0].name(),\n",
    "      '\\nSeending do not define who participate: ', set(tournament.participants()) != set(btr.players()))"
   ]
  },
  {
   "cell_type": "code",
   "execution_count": 6,
   "id": "b27d78ae-2bac-49a1-a3c8-84f2aa5cdcc5",
   "metadata": {},
   "outputs": [
    {
     "name": "stdout",
     "output_type": "stream",
     "text": [
      "Round 1\n",
      "Roy Melito - versus - Christopher Riddle [1.0, 0.0]\n",
      "Judy Bell - versus - John James [0.0, 1.0]\n",
      "Melba Reaves - versus - Eric Stone [0.0, 1.0]\n",
      "Mary Lindeman - versus - Frank Reed [1.0, 0.0]\n",
      "Nancy Obermiller - versus - Clarence Gutierrez [0.0, 1.0]\n",
      "Marie Ross - versus - Isaac Hang [0.0, 1.0]\n",
      "Michael Rhodes - versus - Crystal Levine [0.0, 1.0]\n",
      "Marsha Mcnally - versus - Gloria Hein [0.0, 1.0]\n",
      "\n",
      "Round 2\n",
      "Roy Melito - versus - John James [1.0, 0.0]\n",
      "Eric Stone - versus - Mary Lindeman [1.0, 0.0]\n",
      "Clarence Gutierrez - versus - Isaac Hang [1.0, 0.0]\n",
      "Crystal Levine - versus - Gloria Hein [1.0, 0.0]\n",
      "\n",
      "Round 3\n",
      "Roy Melito - versus - Eric Stone [0.0, 1.0]\n",
      "Clarence Gutierrez - versus - Crystal Levine [1.0, 0.0]\n",
      "\n",
      "Round 4\n",
      "Eric Stone - versus - Clarence Gutierrez [1.0, 0.0]\n",
      "\n"
     ]
    }
   ],
   "source": [
    "# .games() return a list of SMatch, or a list of list if specified by rounds.\n",
    "for i, round in enumerate(tournament.games(by_rounds=True)):\n",
    "    print(f'Round {i+1}')\n",
    "    for game in round:\n",
    "        print(game.player1(), '- versus -', game.player2(), game.scores())\n",
    "    print()"
   ]
  },
  {
   "cell_type": "code",
   "execution_count": 7,
   "id": "2c76dc18-6ae5-4559-9ef5-d754e235c31c",
   "metadata": {},
   "outputs": [
    {
     "data": {
      "text/plain": [
       "{Player - name: Christopher Riddle, level: 1422.1730698637937: 16,\n",
       " Player - name: Judy Bell, level: 1144.1287046178954: 16,\n",
       " Player - name: Melba Reaves, level: 1499.7034642194762: 16,\n",
       " Player - name: Frank Reed, level: 1255.764645335733: 16,\n",
       " Player - name: Nancy Obermiller, level: 505.23311632248215: 16,\n",
       " Player - name: Marie Ross, level: 1349.9002717856586: 16,\n",
       " Player - name: Michael Rhodes, level: 1572.8765080078756: 16,\n",
       " Player - name: Marsha Mcnally, level: 1377.9273555851837: 16,\n",
       " Player - name: John James, level: 1874.3127131433541: 8,\n",
       " Player - name: Mary Lindeman, level: 1687.514430881033: 8,\n",
       " Player - name: Isaac Hang, level: 1463.5917100418862: 8,\n",
       " Player - name: Gloria Hein, level: 1600.8192297704095: 8,\n",
       " Player - name: Roy Melito, level: 1995.2452069548683: 4,\n",
       " Player - name: Crystal Levine, level: 1603.932002691374: 4,\n",
       " Player - name: Clarence Gutierrez, level: 1810.7650548556942: 2,\n",
       " Player - name: Eric Stone, level: 2249.98213000531: 1}"
      ]
     },
     "execution_count": 7,
     "metadata": {},
     "output_type": "execute_result"
    }
   ],
   "source": [
    "# The standing is a dict[SPlayer, int] indicating the final placement of participants\n",
    "tournament.standing()"
   ]
  },
  {
   "cell_type": "markdown",
   "id": "0d0718d7-f4bf-4722-b557-13db9831ad62",
   "metadata": {},
   "source": [
    "#### Achievements\n",
    "\n",
    "Player class differs from BasicPlayer by tracking their achievement in events. As a consequence, a Player can only participate in event with different names."
   ]
  },
  {
   "cell_type": "code",
   "execution_count": 8,
   "id": "9bc76b86-af28-4be0-aee4-4c36ca7dc71a",
   "metadata": {
    "editable": true,
    "slideshow": {
     "slide_type": ""
    },
    "tags": []
   },
   "outputs": [
    {
     "name": "stdout",
     "output_type": "stream",
     "text": [
      "event name: Example \n",
      "John James final placement: 8 \n",
      "money earned in the event: 0\n",
      "Total earnings in career: 0\n"
     ]
    }
   ],
   "source": [
    "player = competitors[0]\n",
    "for achievement in player.achievements():\n",
    "    print('event name:',achievement.event_name,\n",
    "          f'\\n{player.name()}', 'final placement:', achievement.place,\n",
    "          '\\nmoney earned in the event:', achievement.prize)\n",
    "print('Total earnings in career:', player.earnings())"
   ]
  },
  {
   "cell_type": "code",
   "execution_count": 9,
   "id": "29569533-66b4-4b3c-aa7d-afb5f175d548",
   "metadata": {
    "editable": true,
    "slideshow": {
     "slide_type": ""
    },
    "tags": [
     "raises-exception"
    ]
   },
   "outputs": [
    {
     "ename": "ValueError",
     "evalue": "Can not collect Achievement(event_name='Example', place=16, prize=0). Frank Reed already participated in an event called Example",
     "output_type": "error",
     "traceback": [
      "\u001b[0;31m---------------------------------------------------------------------------\u001b[0m",
      "\u001b[0;31mValueError\u001b[0m                                Traceback (most recent call last)",
      "Cell \u001b[0;32mIn[9], line 6\u001b[0m\n\u001b[1;32m      4\u001b[0m tournament2 \u001b[38;5;241m=\u001b[39m SingleEliminationBracket(name\u001b[38;5;241m=\u001b[39m\u001b[38;5;124m'\u001b[39m\u001b[38;5;124mExample\u001b[39m\u001b[38;5;124m'\u001b[39m, seeding\u001b[38;5;241m=\u001b[39mbtr, solver\u001b[38;5;241m=\u001b[39mBetterWin())\n\u001b[1;32m      5\u001b[0m tournament2\u001b[38;5;241m.\u001b[39mregistration(competitors)\n\u001b[0;32m----> 6\u001b[0m tournament2\u001b[38;5;241m.\u001b[39mrun()\n",
      "File \u001b[0;32m~/Documents/GitHub/rstt/rstt/scheduler/tournament/competition.py:233\u001b[0m, in \u001b[0;36mCompetition.run\u001b[0;34m(self)\u001b[0m\n\u001b[1;32m    231\u001b[0m \u001b[38;5;28mself\u001b[39m\u001b[38;5;241m.\u001b[39mstart()\n\u001b[1;32m    232\u001b[0m \u001b[38;5;28mself\u001b[39m\u001b[38;5;241m.\u001b[39mplay()\n\u001b[0;32m--> 233\u001b[0m \u001b[38;5;28mself\u001b[39m\u001b[38;5;241m.\u001b[39mtrophies()\n",
      "File \u001b[0;32m~/Documents/GitHub/rstt/rstt/scheduler/tournament/competition.py:315\u001b[0m, in \u001b[0;36mCompetition.trophies\u001b[0;34m(self)\u001b[0m\n\u001b[1;32m    312\u001b[0m \u001b[38;5;28;01mtry\u001b[39;00m:\n\u001b[1;32m    313\u001b[0m     result \u001b[38;5;241m=\u001b[39m Achievement(\n\u001b[1;32m    314\u001b[0m         \u001b[38;5;28mself\u001b[39m\u001b[38;5;241m.\u001b[39m__name, \u001b[38;5;28mself\u001b[39m\u001b[38;5;241m.\u001b[39m__standing[player], \u001b[38;5;28mself\u001b[39m\u001b[38;5;241m.\u001b[39mcashprize[\u001b[38;5;28mself\u001b[39m\u001b[38;5;241m.\u001b[39m__standing[player]])\n\u001b[0;32m--> 315\u001b[0m     player\u001b[38;5;241m.\u001b[39mcollect(result)\n\u001b[1;32m    316\u001b[0m \u001b[38;5;28;01mexcept\u001b[39;00m \u001b[38;5;167;01mAttributeError\u001b[39;00m:\n\u001b[1;32m    317\u001b[0m     \u001b[38;5;28;01mcontinue\u001b[39;00m\n",
      "File \u001b[0;32m~/Documents/GitHub/rstt/rstt/player/player.py:92\u001b[0m, in \u001b[0;36mcollect\u001b[0;34m(self, achievement)\u001b[0m\n\u001b[1;32m     90\u001b[0m \u001b[38;5;28;01melse\u001b[39;00m:\n\u001b[1;32m     91\u001b[0m     msg \u001b[38;5;241m=\u001b[39m \u001b[38;5;124mf\u001b[39m\u001b[38;5;124m\"\u001b[39m\u001b[38;5;124mCan not collect \u001b[39m\u001b[38;5;132;01m{\u001b[39;00machievement\u001b[38;5;132;01m}\u001b[39;00m\u001b[38;5;124m. \u001b[39m\u001b[38;5;132;01m{\u001b[39;00m\u001b[38;5;28mself\u001b[39m\u001b[38;5;132;01m}\u001b[39;00m\u001b[38;5;124m already participated in an event called \u001b[39m\u001b[38;5;132;01m{\u001b[39;00machievement\u001b[38;5;241m.\u001b[39mevent_name\u001b[38;5;132;01m}\u001b[39;00m\u001b[38;5;124m\"\u001b[39m\n\u001b[0;32m---> 92\u001b[0m     \u001b[38;5;28;01mraise\u001b[39;00m \u001b[38;5;167;01mValueError\u001b[39;00m(msg)\n",
      "\u001b[0;31mValueError\u001b[0m: Can not collect Achievement(event_name='Example', place=16, prize=0). Frank Reed already participated in an event called Example"
     ]
    }
   ],
   "source": [
    "# An example of simulation Error\n",
    "\n",
    "# name='Example' is already used  in cell (5)\n",
    "tournament2 = SingleEliminationBracket(name='Example', seeding=btr, solver=BetterWin())\n",
    "tournament2.registration(competitors)\n",
    "tournament2.run()"
   ]
  },
  {
   "cell_type": "markdown",
   "id": "4fda052b-46ef-41e0-bec0-ada70d0ad3c3",
   "metadata": {
    "editable": true,
    "slideshow": {
     "slide_type": ""
    },
    "tags": []
   },
   "source": [
    "#### Error Details\n",
    "\n",
    "##### **Motivation**\n",
    "RSTT is a powerfull package that enables production of multi millions games dataset in reasonable time. It is also meant for scientifical reseach, synthetic **data must be well defined** and strickly be the consequences of a specified model. Many errors raised by the package are annoying and seem unnecessary. They are here to ensure data integrity. They tell researcher and reviewer that something is not quiet right. \n",
    "\n",
    "##### **What happened ?**\n",
    "At the very end of the Competition.run execution, paricipants *receive* an [Achievement](https://rstt.readthedocs.io/en/latest/rstt.html#rstt.stypes.Achievement), resulting in a ValueError raised by the player. You could execute multiple times the same event using BasicPlayer, since they do not track achievement, no error would occure.\n",
    "The error is raised after all games have been played and a standing was decided and only by player tracking achievements. The problem is not the game, the players , the solver nor the competition handling. It just make no sense to host twice a **World Cup 2025**.\n",
    "\n",
    "##### **What to do ?**\n",
    "Either use BasicPlayer or a consistant naming convention for event. A formated string with an index in an enumerated for-loop works just fine.\n",
    "Sometimes you realy, realy do need twice the exact same event with the same participants. In that case there is a player.reset() method, as an explicit syntax, that eraise object history."
   ]
  },
  {
   "cell_type": "markdown",
   "id": "ab7183c2-7066-4654-8dbd-8bb5b8c5f4ca",
   "metadata": {
    "editable": true,
    "slideshow": {
     "slide_type": ""
    },
    "tags": []
   },
   "source": [
    "## 6. Simulation\n",
    "\n",
    "1) Specify a model specification. It consist in a population of player and a solver.\n",
    "We consider 256 **Player** with a constant level in a probabilistic environement defined by the **[LogSolver](https://rstt.readthedocs.io/en/latest/_modules/rstt/solver/solvers.html#LogSolver)**.\n",
    "\n",
    "2) Select a Ranking to test\n",
    "We will use the famous **[Elo](https://rstt.readthedocs.io/en/latest/rstt.ranking.standard.html#module-rstt.ranking.standard.basicElo.BasicElo) rating system**.\n",
    "\n",
    "3) Simulation Protocol. How do component interact with each. When do you play game and update a ranking. When do you update the player level or change solver ? The entire synthethic dataset production is under your control, inculding the inter-play between a test set and the training/validation set.\n",
    "Let's keep it simple here. We play **one single swiss-sound tournament edition with initial random seed**. Then update our test ranking.\n",
    "Typically a ranking under test has no prior information, i.e. all players have the same ratings and the ordering is assumed random.\n",
    "\n",
    "4) Run\n",
    "   \n",
    "5) Evaluation:\n",
    "What is fantastic with simulation is that you know the actual level of player and can compare infered ratings with the **groudtruth**.\n",
    "Here we will compute rank differences between learned and model ranking. "
   ]
  },
  {
   "cell_type": "code",
   "execution_count": 10,
   "id": "94834b6b-f05b-46db-9859-59ade85c83a2",
   "metadata": {
    "editable": true,
    "slideshow": {
     "slide_type": ""
    },
    "tags": []
   },
   "outputs": [],
   "source": [
    "from rstt import BasicElo, LogSolver, SwissRound, SingleEliminationBracket, RoundRobin\n",
    "\n",
    "# 1. simulation model\n",
    "players = Player.create(nb=256)\n",
    "groundtruth = BTRanking('Ground Truth', players=players)\n",
    "solver = LogSolver()\n",
    "\n",
    "# 2. a ranking under test\n",
    "test_ranking = BasicElo('Test Ranking', players=players)\n",
    "\n",
    "# 33 & 4. a  dataset\n",
    "tournament = SwissRound('One Event', groundtruth, solver)\n",
    "tournament.registration(players)\n",
    "tournament.run()\n",
    "\n",
    "# 'train' ranking on dataset\n",
    "test_ranking.update(games=tournament.games())"
   ]
  },
  {
   "cell_type": "code",
   "execution_count": 11,
   "id": "0b381d92-ae48-4d99-9d53-5d76f15efa4b",
   "metadata": {
    "editable": true,
    "slideshow": {
     "slide_type": ""
    },
    "tags": []
   },
   "outputs": [
    {
     "name": "stdout",
     "output_type": "stream",
     "text": [
      "\n",
      "mean: 0 \n",
      "standard deviation 30.461933815250564 \n",
      "biggest 'under-rating' gap 90 \n",
      "biggest 'over-rating' gap 98\n"
     ]
    }
   ],
   "source": [
    "import statistics\n",
    "\n",
    "# 5. evaluation\n",
    "rank_diff = [groundtruth[p]-test_ranking[p] for p in players]\n",
    "\n",
    "# simple statistics\n",
    "print('\\nmean:',statistics.mean(rank_diff),\n",
    "      '\\nstandard deviation', statistics.stdev(rank_diff),\n",
    "      '\\nbiggest \\'under-rating\\' gap', max(rank_diff),\n",
    "      '\\nbiggest \\'over-rating\\' gap', abs(min(rank_diff))\n",
    "     )"
   ]
  },
  {
   "cell_type": "markdown",
   "id": "9cd67fff-8d14-4f16-a07b-1170b7734146",
   "metadata": {},
   "source": [
    "## 7. Modularity\n",
    "\n",
    "One of the greatest asset in RSTT is the modularity of its component. The following concepts:\n",
    "Player, Solver, Scheduler and Ranking have different implementation available which are all inter-changeable. \n",
    "\n",
    "You can quickly switch model specification without breaking your simulation. For this reason it is often good practice to wrap your experimental protocol in a function taking the parameters as input. There is a stypes module that helps you typehint your functionalities.\n",
    "\n",
    "**Note:** Most of the time the match mode is inherent to the problem or research question you are adressing and it rarely make sense to switch it."
   ]
  },
  {
   "cell_type": "code",
   "execution_count": 12,
   "id": "555c37b4-8a13-4315-abd5-0c8d16d28730",
   "metadata": {},
   "outputs": [],
   "source": [
    "from rstt import Ranking, Competition\n",
    "from rstt.stypes import SPlayer, SMatch, Solver\n",
    "\n",
    "\n",
    "def rssc(players: list[SPlayer], ranking: Ranking, solver: Solver, tournament: Competition, depth: int) -> list[list[SMatch]]:\n",
    "    \"\"\"repeated self seeded cup\n",
    "    \n",
    "    A cup is seeded by a ranking.\n",
    "    In turn the ranking is updated based on the cup games outcome.\n",
    "    This Interplay is repeated many times.\n",
    "    \"\"\"\n",
    "\n",
    "    dataset = []\n",
    "    \n",
    "    for i in range(depth):\n",
    "        # play an event\n",
    "        cup = tournament(name=f'rssc {i}', seeding=ranking, solver=solver)\n",
    "        cup.registration(players)\n",
    "        cup.run()\n",
    "\n",
    "        # update ranking\n",
    "        ranking.update(games=cup.games())\n",
    "        \n",
    "        # extend returned dataset\n",
    "        dataset.append(cup.games())\n",
    "\n",
    "    return dataset"
   ]
  },
  {
   "cell_type": "markdown",
   "id": "4dfbfde9-759e-4a90-939e-cd7df3c459aa",
   "metadata": {},
   "source": [
    "## 8. Your Turn\n",
    "\n",
    "Below is a collection of component for you to familiarize with and play arround. Do not forget to consult the documentation."
   ]
  },
  {
   "cell_type": "code",
   "execution_count": 13,
   "id": "d5b20b61-263f-46aa-b537-2c534b7918fe",
   "metadata": {},
   "outputs": [],
   "source": [
    "# TODO CELL\n",
    "\n",
    "from rstt.player import BasicPlayer, Player, GaussianPlayer, CyclePlayer, LogisticPlayer\n",
    "from rstt.scheduler import SingleEliminationBracket, DoubleEliminationBracket, RoundRobin\n",
    "from rstt import BasicElo, BasicGlicko\n",
    "from rstt import BetterWin, CoinFlip, BradleyTerry, LogSolver\n",
    "\n",
    "\n",
    "population = ...\n",
    "solver = ...\n",
    "ranking = ..."
   ]
  },
  {
   "cell_type": "markdown",
   "id": "f08074ad-2529-42f5-a476-f7146c6d00bc",
   "metadata": {},
   "source": [
    "## 9. What else to learn\n",
    "\n",
    "You enjoed this tutorial and want to discover more about the package features and applications. We have other tutorials for you to improve your skill in RSTT simulation research.\n",
    "\n",
    "\n",
    "#### Tutorial 2: Integration\n",
    "\n",
    "RSTT has its own **unique definition** of what a ranking is. You get a glimps of it in Tutorial 2. It is a powerfull one that allows you to integrate externally defined rating system within the RSTT framework.\n",
    "\n",
    "In this tutorial you will build a simple ranking class that uses the [openskill](https://github.com/vivekjoshy/openskill.py) package to compute ratings within a RSTT simulation. The same approach can be extanded to [trueskill](https://trueskill.org) and probably any system you want to.\n",
    "\n",
    "\n",
    "\n",
    "#### Tutorial 3: Research\n",
    "\n",
    "In this tutorial, we reproduce a researched on the Elo ranking system. You will code some of the experimentation youself.\n",
    "What you learn:\n",
    "- Reproduce scientifical research\n",
    "- How to read model specification and translate it into RSTT vocabulary and features\n",
    "- Setup Experimental Protocol\n",
    "- Make cool plot to vizualise simulation results\n",
    "\n",
    "\n",
    "#### Tutorial 4: Modeling\n",
    "\n",
    "RSTT allows you to design and implement custom component to combine. The design requirements are kept minimal thanks to high abstraction defining interaction and taking care of automation. We model here an entire professional video gam ecosystem (League of Legend), including ranking specfifcation and leagues structures with international events. We build a model to reflect both game title specificity and ranking consideration. We implement a naive baseline and perform a simple comparative study.\n",
    "\n",
    "The tutorial also highlight some current limitation of the package, and how you can work arround to reach your goal. \n",
    "\n",
    "What you learn:\n",
    "- Abstraction of components\n",
    "- 'Deeper' functionalities\n",
    "- Modeling\n",
    "- Tips & Tricks from maintainer experiences\n",
    "- Pitfall of simulation based research"
   ]
  },
  {
   "cell_type": "code",
   "execution_count": null,
   "id": "9e0e272f-6abc-4b8c-86fe-cec98217d6e7",
   "metadata": {},
   "outputs": [],
   "source": []
  }
 ],
 "metadata": {
  "kernelspec": {
   "display_name": "Python 3 (ipykernel)",
   "language": "python",
   "name": "python3"
  },
  "language_info": {
   "codemirror_mode": {
    "name": "ipython",
    "version": 3
   },
   "file_extension": ".py",
   "mimetype": "text/x-python",
   "name": "python",
   "nbconvert_exporter": "python",
   "pygments_lexer": "ipython3",
   "version": "3.12.2"
  }
 },
 "nbformat": 4,
 "nbformat_minor": 5
}
