{
 "cells": [
  {
   "cell_type": "markdown",
   "id": "ba919c00",
   "metadata": {},
   "source": [
    "## Simulation Based Research with RSTT\n",
    "\n",
    "\n",
    "\n",
    "\n",
    "TODO: proper description of this notebook as tutorial for RSTT\n",
    "- Using the experiment of Krifa & Cie,\n",
    "- Do clear authorship attribution and references.\n",
    "- this notebook is not about theoretical fundation\n",
    "- strictly about code writing with rstt.\n",
    "- introduce quoting style for original wording in code comments\n",
    "- How we reference rstt documentation for the used component"
   ]
  },
  {
   "cell_type": "markdown",
   "id": "60c6f564",
   "metadata": {},
   "source": [
    "## Base Model for Simulation\n",
    "\n",
    "In the introduction section we can read \"we mainly study the properties of the Elo model for a fixed finite number of players of constant strenghts\".\n",
    "\n",
    "In section 1.1 we get more details about tunable parameters:\n",
    "- EQ. (3): The K-factor, K=20\n",
    "- EG. (9): The logistic function b(x), with base=10 and a constant=400.\n"
   ]
  },
  {
   "cell_type": "code",
   "execution_count": null,
   "id": "bec1b55f",
   "metadata": {},
   "outputs": [],
   "source": [
    "from rstt import BasicElo\n",
    "elo = BasicElo(name='Elo System', )"
   ]
  }
 ],
 "metadata": {
  "kernelspec": {
   "display_name": "Python 3",
   "language": "python",
   "name": "python3"
  },
  "language_info": {
   "codemirror_mode": {
    "name": "ipython",
    "version": 3
   },
   "file_extension": ".py",
   "mimetype": "text/x-python",
   "name": "python",
   "nbconvert_exporter": "python",
   "pygments_lexer": "ipython3",
   "version": "3.7.10"
  }
 },
 "nbformat": 4,
 "nbformat_minor": 5
}
