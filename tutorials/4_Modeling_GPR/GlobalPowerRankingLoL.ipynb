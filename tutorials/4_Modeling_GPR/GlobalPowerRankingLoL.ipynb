{
 "cells": [
  {
   "cell_type": "markdown",
   "id": "ad5c87ac",
   "metadata": {},
   "source": [
    "# RSTT Tutorial\n",
    "\n",
    "## Project description\n",
    "#### League of Legends Global Power Ranking \n",
    "In September 2024, Riot Games introduced their **Global Power Ranking**, a [ranking](https://lolesports.com/en-US/news/dev-diary-unveiling-the-global-power-rankings) for professional League of Legends teams. At is core,  a modified Elo system modeling not only the teams, but also regions as part of an international eco-system.\n",
    "\n",
    "Additionaly to the Global Power Ranking, we also build a simple **Calendar**. The Calendar responsability is to to generate a somewhat realistic/meaningfull synthetic dataset to evaluate ranking design.\n",
    "By following the structure of *League of Legend* international competition, it produces data suited for the ranking considerations. You can find detail about it on [Liquipedia](https://liquipedia.net/leagueoflegends/Main_Page)\n",
    "\n",
    "In this notebook, you will learn how to:\n",
    "- Design a ranking in the spirit of the package\n",
    "- Use and combine format of competition to create a complex calendar\n",
    "\n",
    "\n",
    "The notebook from there on will simply refer to *GPR* for the ranking, and *LoL* for League of Legends\n",
    "\n",
    "#### Tutorial Structure\n",
    "\n",
    "The goal is to make the notebook work. To achieve this you need to implement several components of the rstt framework.\n",
    "\n",
    "\n",
    "In the *project* forlder you'll find python module where you work on your implement."
   ]
  },
  {
   "cell_type": "markdown",
   "id": "53ed57fc-b018-4751-8767-f02ab4be6b71",
   "metadata": {},
   "source": [
    "## 1. Implementation of a Competition\n",
    "\n",
    "[Competition](https://rstt.readthedocs.io/en/latest/rstt.scheduler.tournament.html#rstt.scheduler.tournament.competition.Competition) is an abstract class from which inherit tournament format such as [Round-Robin](https://rstt.readthedocs.io/en/latest/rstt.scheduler.tournament.html#rstt.scheduler.tournament.groups.RoundRobin) or [Single Elimination Bracket](https://rstt.readthedocs.io/en/latest/rstt.scheduler.tournament.html#rstt.scheduler.tournament.knockout.SingleEliminationBracket). The LoL calendar consist of events for which the rstt already provides a corresponding implementation. For tutorial purpose, we propose to work on a **StagedEvent** class (where different format are played in a succession of stages) to illustrate the devellopement process.\n",
    "\n",
    "When working on a Competition, you want to be able to instanciate it with seedings, a solver and a name (used as identifier). You also want to 'register' participants and 'run' it. The following code snippet illustrate how the magic happends. It is **not** the exact implementation, but gives the necessary information to understand the logic of the class.\n",
    "\n",
    "```python\n",
    "def run(self):\n",
    "    self.start(): ->\n",
    "        self.seeding = self.seeding.fit(self.participants)\n",
    "        self._initialise() # Optional Override (TODO ?)\n",
    "    self.play(): ->\n",
    "        while not self.finished:\n",
    "            games = self.generate_games() # Abstract Method (TODO 1)\n",
    "            games = self.play_games(games)\n",
    "            self.edit(games): ->\n",
    "                self.played_matches.append(games)\n",
    "                self._update() # Optional Override (TODO ?)\n",
    "                self.__finished = self._end_of_Stage() # Aabstract Method (TODO 2)\n",
    "    self.trophies(): ->\n",
    "        self._standing() # Abstract Method (TODO 3)\n",
    "        for player in self.participants:\n",
    "            player.collect(self)\n",
    "```\n",
    "\n",
    "In the project/stagedevent.py file there is a StageEvent class for you to fill. \n",
    "\n",
    "#### TODO:\n",
    "Make sure the next cell is exectuable"
   ]
  },
  {
   "cell_type": "code",
   "execution_count": 1,
   "id": "047ca7d0-d5bc-486a-a62c-10a87e481ef6",
   "metadata": {},
   "outputs": [],
   "source": [
    "from rstt import Player, BTRanking, BetterWin\n",
    "from rstt import RoundRobin, SingleEliminationBracket, DoubleEliminationBracket\n",
    "\n",
    "#from LoL.project.stagedevent import StagedEvent\n",
    "from solutions.stagedevent import StagedEvent\n",
    "\n",
    "\n",
    "# simulation parameters\n",
    "teams = Player.create(nb=8)\n",
    "gt = BTRanking(name='GroundTruth', players=teams)\n",
    "solver = BetterWin()\n",
    "\n",
    "# competition parameters\n",
    "tournaments = [RoundRobin, SingleEliminationBracket, DoubleEliminationBracket]\n",
    "names = ['PlayIns', 'MainStage', 'PlayOffs']\n",
    "\n",
    "# try your implementation \n",
    "test = StagedEvent(name='test', seeding=gt, solver=solver, tournaments=tournaments, stage_names=names)\n",
    "test.registration(teams)\n",
    "test.run()"
   ]
  },
  {
   "cell_type": "markdown",
   "id": "f65a0ec9-e8d8-4cd7-a2be-8daa107815ce",
   "metadata": {},
   "source": [
    "### 1.2. Competition Quality\n",
    "\n",
    "In simulation, the role of a competition class is to output a small match dataset with a specific logic/structure and identify a winner among a predefine number of competitors. In our project, the resulting games are used to update the ranking, and the final placement is used to qualify teams to other events. These are two important features of the StagedEvent class. In the next cell we perform some 'integrity check' to ensure the implementation does what it is supposed to do.\n",
    "\n",
    "#### TODO:\n",
    "Ensure that:\n",
    "- 1) Stages are properly executed: each started(), where played entirely and the trophies() method was properly called.\n",
    "- 2) The competition returns the right amout of games\n",
    "- 3) The competition correctly build the final standing\n",
    "\n",
    "\n",
    "**TIP:**\n",
    "A simulation using the BetterWin solver and players with constant level is deterministic and always produces the same output. You also know who is supposed to finish first and last thanks to the BTRanking class.\n",
    "\n",
    "Feel free to change the test/requierements, as long as you do clearly define what your implementation should do!"
   ]
  },
  {
   "cell_type": "code",
   "execution_count": 2,
   "id": "ca35d0c8-fdf5-4bf9-8b7e-e97dc83127af",
   "metadata": {},
   "outputs": [
    {
     "name": "stdout",
     "output_type": "stream",
     "text": [
      "testPlayIns started: True / finished playing games: True / closing ceremony done: True\n",
      "testMainStage started: True / finished playing games: True / closing ceremony done: True\n",
      "testPlayOffs started: True / finished playing games: True / closing ceremony done: True\n",
      "StagedEvent number of games correct: False\n",
      "StagedEvent final standing matches the final stage stading: True\n"
     ]
    }
   ],
   "source": [
    "# 1. check stages proper run\n",
    "for stage in test.stages:\n",
    "    print(stage.name(),'started:', stage.started(),\n",
    "          '/ finished playing games:', not stage.live(),\n",
    "          '/ closing ceremony done:', stage.over())\n",
    "\n",
    "# 2. check return dataset\n",
    "target_games = []\n",
    "for i, tournament in enumerate(tournaments):\n",
    "    stage = tournament(name=f'test_stage_games_{i}', seeding=gt, solver=solver)\n",
    "    stage.registration(teams)\n",
    "    stage.run()\n",
    "    target_games += stage.games()\n",
    "print('StagedEvent number of games correct:', len(test.games()) == len(target_games))\n",
    "\n",
    "# 3. check final standing\n",
    "final = tournaments[-1](name='test_final_stage_standing', seeding=gt, solver=solver)\n",
    "final.registration(teams)\n",
    "final.run()\n",
    "print('StagedEvent final standing matches the final stage stading:', test.standing() == final.standing())"
   ]
  },
  {
   "cell_type": "markdown",
   "id": "83950210",
   "metadata": {},
   "source": [
    "## 2. Implementation of a Ranking\n",
    "\n",
    "[Ranking]() in rstt consists of:\n",
    "- a [standing](): sorts automatically competitors accordingly to their ratings.\n",
    "- a [datamodel](): container for rating.\n",
    "- a [backend](): tool to infer ratings, 'the maths'. \n",
    "- an [handler](): a workflow handling the update from observations to new ratings.\n",
    "\n",
    "It is possible to instanciate a ranking simply by specifying the suited components. However, it is also possible to inherit from the class and override the [forward](https://rstt.readthedocs.io/en/latest/rstt.ranking.html#rstt.ranking.ranking.Ranking.forward) method which allows us to tune the ranking state at update time. The following code snippet illustrate the default implementation.\n",
    "\n",
    "```python\n",
    "def update(self, *args, **kwargs):\n",
    "    self.forward(*args, **kwargs) ->\n",
    "        self.handler.handle_observation(infer=self.backend, datamodel=self.datamodel, *args, **kwargs)\n",
    "    # automatic ordering of the standing\n",
    "```\n",
    "\n",
    "Two important remarks. First the ranking **does not care** about ratings explicitly. It is an implict agreement between the components. As long as the backend can manipulate the ratings provided by the handler (and returned by datamodel.get) it should work. It is recommanded to not 'hard code' ratings so that the ranking keeps maximal flexibility and that component remains as independant from each others as possible. Secondly, 'observations' - the things that justify a ranking update, passed as *args **kwargs - are dealt by the handler. The handler needs to extract the relevant information from it. You are free to decide what the ranking takes as input and how to process them.\n",
    "\n",
    "#### 2.1 Global Power Ranking Logic and Structure\n",
    "\n",
    "The GPR has its own specificity aswell. It rate leagues, this means we need dedicated Player to represent them because ranking and datamodel are designed for SPlayer. Ratings are evaluated game by game over a time window using an elo rational where games do not all have the same importance. These *extra* notions are develloped in the utils module.\n",
    "\n",
    "- (A) 'league' players\n",
    "- (B) a database\n",
    "- (C) adjust game importance\n",
    "- (D) reset ratings (so that only the game in the time period count)\n",
    "- (E) identify the scene and stage (regional/international) of an event\n",
    "\n",
    "In the turorial, we use a consistent naming convention (define in the scene module) for competition. This way we can extract the needed information to set the importance of the corresponding game. This mean the GPR will take an 'event: Event' parameter  for update (refered as observation). \n",
    "\n"
   ]
  },
  {
   "cell_type": "code",
   "execution_count": 3,
   "id": "e15e945e",
   "metadata": {},
   "outputs": [
    {
     "name": "stdout",
     "output_type": "stream",
     "text": [
      "----------- Global Power Ranking -----------\n"
     ]
    }
   ],
   "source": [
    "from solutions.globalranking import GlobalRanking\n",
    "from solutions.scene import REGIONS\n",
    "from solutions.utils import LeagueSystem\n",
    "\n",
    "# teams\n",
    "teams_by_leagues = {region: Player.create(nb=4) for region in REGIONS[:2]}\n",
    "ecosystem = LeagueSystem(teams_by_leagues)\n",
    "\n",
    "# ranking parameters\n",
    "x, y, team_elo, league_elo = 0.8, 0.2, 1300, 1300\n",
    "gpr = GlobalRanking(name='Global Power Ranking', ecosystem=ecosystem, x=x, y=y, team_elo=team_elo, league_elo=league_elo)\n",
    "gpr.plot()"
   ]
  },
  {
   "cell_type": "code",
   "execution_count": 4,
   "id": "6ef334d3-17ed-4c3d-8c7e-d8b93143023e",
   "metadata": {},
   "outputs": [
    {
     "name": "stdout",
     "output_type": "stream",
     "text": [
      "Empty Ranking at instanciation: True\n",
      "Ordinal implements the Power Score Formula: True\n"
     ]
    }
   ],
   "source": [
    "# 1. check ranking empty (no games have been played, window is empty !)\n",
    "print('Empty Ranking at instanciation:', len(gpr) == 0)\n",
    "\n",
    "# 2. check the Power score formula\n",
    "team = ecosystem.teams()[0] # a team from the system\n",
    "rating = gpr.datamodel.get(team) # its rating\n",
    "points = gpr.datamodel.ordinal(rating) # the associated score\n",
    "print('Ordinal implements the Power Score Formula:', points == x*team_elo + y*league_elo)"
   ]
  },
  {
   "cell_type": "code",
   "execution_count": 5,
   "id": "c2d705fb-08ff-426b-ae63-bff405990ae2",
   "metadata": {},
   "outputs": [
    {
     "name": "stdout",
     "output_type": "stream",
     "text": [
      "----------- Consensus Ranking -----------\n",
      "   0.        Joanne Juarez       1941\n",
      "   1.        Raymond Black       1680\n",
      "   2.        Ronald Gatesy       1492\n",
      "   3.         Daniel Myers       1492\n",
      "   4.         Pearl Rhodes       1183\n",
      "   5.   Guadalupe Schuller        838\n",
      "   6.       Trina Stephens        702\n",
      "   7.        Donna Hickman        699\n"
     ]
    }
   ],
   "source": [
    "gt = BTRanking('Consensus Ranking', players=ecosystem.teams())\n",
    "gt.plot()"
   ]
  },
  {
   "cell_type": "code",
   "execution_count": 6,
   "id": "fe652837-6c8e-438b-a2f9-0488a0e53f16",
   "metadata": {},
   "outputs": [
    {
     "name": "stdout",
     "output_type": "stream",
     "text": [
      "LTAN 8\n",
      "LEC 10\n",
      "LCK 10\n",
      "LPL 17\n",
      "LCP 20\n",
      "LTAS 16\n"
     ]
    },
    {
     "data": {
      "text/plain": [
       "[Player - name: CTBC Flying Oyster, level: 1189,\n",
       " Player - name: Deep Cross Gaming, level: 1147,\n",
       " Player - name: Frank Esports, level: 1184,\n",
       " Player - name: HELL PIGS, level: 1063,\n",
       " Player - name: J Team, level: 1117,\n",
       " Player - name: PSG Talon, level: 1323,\n",
       " Player - name: West Point Esports, level: 1053,\n",
       " Player - name: CERBERUS Esports, level: 1077,\n",
       " Player - name: GAM Esports, level: 1254,\n",
       " Player - name: MGN Blue Esports, level: 1053,\n",
       " Player - name: Team Flash, level: 1069,\n",
       " Player - name: Team Secret, level: 1134,\n",
       " Player - name: Team Whales, level: 1128,\n",
       " Player - name: Vikings Esports, level: 1174,\n",
       " Player - name: AXIZ CREST, level: 1000,\n",
       " Player - name: Burning Core Toyama, level: 1000,\n",
       " Player - name: DetonatioN FocusMe, level: 1106,\n",
       " Player - name: Fukuoka HAWKS gaming, level: 1147,\n",
       " Player - name: Sengoku Gaming, level: 1125,\n",
       " Player - name: V3 Esports, level: 1000]"
      ]
     },
     "execution_count": 6,
     "metadata": {},
     "output_type": "execute_result"
    }
   ],
   "source": [
    "import json\n",
    "from collections import defaultdict\n",
    "from solutions.scene import LCK, LPL, LEC, LTAN, LTAS, LCP\n",
    "\n",
    "import rstt.config as cfg\n",
    "\n",
    "#region_mapping = defaultdict(lambda: LCP)\n",
    "region_mapping = {}\n",
    "region_mapping['NorthAmerica'] = LTAN\n",
    "region_mapping['Europe'] = LEC\n",
    "region_mapping['Korea'] = LCK\n",
    "region_mapping['China'] = LPL\n",
    "region_mapping['Brazil'] = LTAS\n",
    "region_mapping['LatinAmerica'] = LTAS\n",
    "region_mapping['AsiaPacific'] = LCP\n",
    "region_mapping['Vietnam'] = LCP\n",
    "region_mapping['Japan'] = LCP\n",
    "\n",
    "\n",
    "# set default behaviour for Player class\n",
    "cfg.PLAYER_DIST = lambda: 1000\n",
    "cfg.PLAYER_DIST_ARGS = {}\n",
    "teams = defaultdict(lambda: [])\n",
    "\n",
    "# read data\n",
    "with open('data/teams.json', 'r') as file:\n",
    "    data = json.load(file)\n",
    "\n",
    "# create player instance for each teams\n",
    "for team in data['teams']:\n",
    "    teams[region_mapping[team['region']]].append(Player(name=team['name'], level=team['level']))\n",
    "\n",
    "# store in a league system\n",
    "ecosystem = LeagueSystem(teams)\n",
    "\n",
    "# display the population\n",
    "for league, lts in teams.items():\n",
    "    print(league, len(lts))\n",
    "\n",
    "ecosystem.teams(LCP)\n",
    "# TODO: some test like number of teams/regions league players etc"
   ]
  },
  {
   "cell_type": "code",
   "execution_count": 7,
   "id": "35220abb-2949-4420-83b5-366906ebf38d",
   "metadata": {},
   "outputs": [
    {
     "name": "stdout",
     "output_type": "stream",
     "text": [
      "FirstStand Winter 2024 \n",
      "MSI Spring 2024 \n",
      "Worlds Summer 2024 \n",
      "FirstStand Winter 2025 \n",
      "MSI Spring 2025 \n",
      "Worlds Summer 2025 \n",
      "CPU times: user 5.8 s, sys: 26.3 ms, total: 5.83 s\n",
      "Wall time: 5.84 s\n"
     ]
    }
   ],
   "source": [
    "%%time\n",
    "\n",
    "from solutions.utils import get_event_infos, EventInfos\n",
    "from solutions.scene import AUDIENCE_MAPPING, REGIONAL, INTERNATIONAL, STAGES, FINALS\n",
    "from solutions.calendar import calendar, event_qualification, year_schedule\n",
    "\n",
    "from rstt import LogSolver, BasicElo\n",
    "\n",
    "# population\n",
    "\n",
    "# ranking 'elo' params\n",
    "team_elo = 1300\n",
    "league_elo = 1300\n",
    "lc = 40\n",
    "\n",
    "# window params\n",
    "ly = len(year_schedule(0,1)) # event per year\n",
    "stage_per_event = 3\n",
    "team_years = 2 # nb year for the team rating window\n",
    "league_years = 3 # nb year for the league rating window\n",
    "window_ranges = {'Team': team_years*ly*stage_per_event, 'League': league_years*ly*stage_per_event}\n",
    "\n",
    "# power score params\n",
    "x = 0.8 # weight of team rating\n",
    "y = 0.2 # weight of league rating\n",
    "\n",
    "# rankings\n",
    "gt = BTRanking('GroundTruth', players=ecosystem.teams())\n",
    "elo = BasicElo('Elo Baseline', players=ecosystem.teams())\n",
    "gpr = GlobalRanking(name='Global Power Ranking', ecosystem=ecosystem, x=x, y=y, team_elo=team_elo, league_elo=league_elo, lc=lc, mode_range=window_ranges)\n",
    "\n",
    "# calendar parameters\n",
    "start = 2024\n",
    "duration = 2\n",
    "#with open('data/qualifications.json', 'r') as file:\n",
    "#    qualif_data = json.load(file)\n",
    "\n",
    "\n",
    "# result tracking\n",
    "ranking_state = {elo.name: [], gpr.name: [], gt.name: []}\n",
    "\n",
    "\n",
    "# Simulation\n",
    "for event in calendar(start, start+duration, solver=LogSolver(lc=600), seeding=gpr, source='data/qualifications.json'):\n",
    "    infos = get_event_infos(event)\n",
    "    invitations, qualifications = event_qualification(infos, ecosystem, gpr.dataset, source='data/qualifications.json')\n",
    "    event.registration(invited=invitations, qualified=qualifications)\n",
    "    event.run()\n",
    "\n",
    "    if infos.region in FINALS:\n",
    "        print(event.name())\n",
    "        \n",
    "        gpr.update(event=None)\n",
    "        ranking_state[elo.name].append([elo.point(team) for team in ecosystem.teams()])\n",
    "        ranking_state[gpr.name].append([gpr.point(team) for team in ecosystem.teams()])\n",
    "        ranking_state[gt.name].append([gt.point(team) for team in ecosystem.teams()])\n",
    "    \n",
    "    for stage in event.stages:\n",
    "        elo.update(games=stage.games())\n",
    "        gpr.dataset.add(stage)\n",
    "\n",
    "    if infos.region in FINALS:\n",
    "        gpr.update(event=None)\n",
    "        ranking_state[elo.name].append([elo.point(team) for team in ecosystem.teams()])\n",
    "        ranking_state[gpr.name].append([gpr.point(team) for team in ecosystem.teams()])\n",
    "        ranking_state[gt.name].append([gt.point(team) for team in ecosystem.teams()])\n",
    "\n"
   ]
  },
  {
   "cell_type": "code",
   "execution_count": 8,
   "id": "5f6cc8d0-60f1-4fc0-b517-bb6b1ed9fc7e",
   "metadata": {},
   "outputs": [],
   "source": [
    "from scipy import stats\n",
    "\n",
    "corr = {gpr.name: [stats.kendalltau(x, y)[0] for x,y in zip(ranking_state[gpr.name], ranking_state[gt.name])],\n",
    "        elo.name: [stats.kendalltau(x, y)[0] for x,y in zip(ranking_state[elo.name], ranking_state[gt.name])]}"
   ]
  },
  {
   "cell_type": "code",
   "execution_count": 9,
   "id": "78dd838a-fc39-4656-869e-229c7e81a2cf",
   "metadata": {},
   "outputs": [
    {
     "data": {
      "text/plain": [
       "<matplotlib.legend.Legend at 0x1264c6330>"
      ]
     },
     "execution_count": 9,
     "metadata": {},
     "output_type": "execute_result"
    },
    {
     "data": {
      "image/png": "[encoded data removed]",
      "text/plain": [
       "<Figure size 640x480 with 1 Axes>"
      ]
     },
     "metadata": {},
     "output_type": "display_data"
    }
   ],
   "source": [
    "import matplotlib.pyplot as plt\n",
    "\n",
    "plt.plot(corr[gpr.name], label=gpr.name)\n",
    "plt.plot(corr[elo.name], label=elo.name)\n",
    "plt.legend()"
   ]
  },
  {
   "cell_type": "code",
   "execution_count": 10,
   "id": "f97dc971-80c9-4284-9dd5-69d76efa1fe1",
   "metadata": {},
   "outputs": [
    {
     "data": {
      "text/plain": [
       "SignificanceResult(statistic=np.float64(0.6888888888888888), pvalue=np.float64(0.00468694885361552))"
      ]
     },
     "execution_count": 10,
     "metadata": {},
     "output_type": "execute_result"
    }
   ],
   "source": [
    "top = 10\n",
    "stats.kendalltau(elo[gt[:top]], gt[gt[:top]])"
   ]
  },
  {
   "cell_type": "code",
   "execution_count": 11,
   "id": "66d27c39-b275-48a1-b365-6b4455e68b73",
   "metadata": {},
   "outputs": [
    {
     "data": {
      "text/plain": [
       "SignificanceResult(statistic=np.float64(0.28888888888888886), pvalue=np.float64(0.2912483465608466))"
      ]
     },
     "execution_count": 11,
     "metadata": {},
     "output_type": "execute_result"
    }
   ],
   "source": [
    "top = 10\n",
    "stats.kendalltau(gpr[gt[:top]], gt[gt[:top]])"
   ]
  },
  {
   "cell_type": "code",
   "execution_count": 12,
   "id": "5e2351a0-c8cb-4f32-83d3-4cfdc0289735",
   "metadata": {},
   "outputs": [
    {
     "data": {
      "text/plain": [
       "[4, 6, 3, 0, 1, 19, 14, 8, 12, 11]"
      ]
     },
     "execution_count": 12,
     "metadata": {},
     "output_type": "execute_result"
    }
   ],
   "source": [
    "gpr[gt[:top]]"
   ]
  },
  {
   "cell_type": "code",
   "execution_count": 13,
   "id": "c6b7ab0c-bb7b-404c-acea-d339501021c2",
   "metadata": {},
   "outputs": [
    {
     "name": "stdout",
     "output_type": "stream",
     "text": [
      "0.7 0.6\n"
     ]
    }
   ],
   "source": [
    "from rstt import Ranking\n",
    "\n",
    "def accuracy(ref: Ranking, test: Ranking, top: int):\n",
    "    targets = ref[:top]\n",
    "    predict = test[:top]\n",
    "    positive = [p for p in predict if p in targets]\n",
    "    return len(positive)/len(targets)\n",
    "\n",
    "print(accuracy(gt, elo, 10), accuracy(gt, gpr, 10))"
   ]
  },
  {
   "cell_type": "code",
   "execution_count": 14,
   "id": "e9e6d1da-7825-4224-9a5c-97b37bd3b39e",
   "metadata": {},
   "outputs": [
    {
     "name": "stdout",
     "output_type": "stream",
     "text": [
      "----------- GroundTruth -----------\n",
      "   0.        Gen.G Esports       1663\n",
      "   1.      Bilibili Gaming       1602\n",
      "   2.  Hanwha Life Esports       1572\n",
      "   3.          Top Esports       1508\n",
      "   4.           G2 Esports       1478\n",
      "   5.                   T1       1467\n",
      "   6.                Dplus       1445\n",
      "   7.            JD Gaming       1440\n",
      "   8.           KT Rolster       1410\n",
      "   9.          LNG Esports       1407\n",
      "  10.         Weibo Gaming       1391\n",
      "  11.    Ninjas in Pyjamas       1376\n",
      "  12.               Fnatic       1372\n",
      "  13.          Team Liquid       1362\n",
      "  14.      Anyone's Legend       1352\n",
      "  15.             Team BDS       1344\n",
      "  16.             FlyQuest       1342\n",
      "  17.            PSG Talon       1323\n",
      "  18.      FunPlus Phoenix       1320\n",
      "  19.              Team WE       1310\n",
      "  20.               Freecs       1309\n",
      "  21.           LGD Gaming       1307\n",
      "  22.        MAD Lions KOI       1302\n",
      "  23.            Oh My God       1299\n",
      "  24.               Cloud9       1299\n",
      "  25.                FearX       1298\n",
      "  26.   ThunderTalk Gaming       1292\n",
      "  27.      Invictus Gaming       1273\n",
      "  28.        EDward Gaming       1268\n",
      "  29.    Nongshim RedForce       1266\n",
      "  30.            Rare Atom       1260\n",
      "  31.         Karmine Corp       1260\n",
      "  32.            SK Gaming       1254\n",
      "  33.          GAM Esports       1254\n",
      "  34.        Team Vitality       1246\n",
      "  35.          100 Thieves       1245\n",
      "  36.     Royal Never Give       1244\n",
      "  37.        Team Heretics       1230\n",
      "  38.                  NRG       1228\n",
      "  39.               GIANTX       1227\n",
      "  40.                  DRX       1217\n",
      "  41.          Ultra Prime       1209\n",
      "  42.    Shopify Rebellion       1208\n",
      "  43.                Rogue       1203\n",
      "  44.             Dignitas       1199\n",
      "  45.   CTBC Flying Oyster       1189\n",
      "  46.             Rainbow7       1187\n",
      "  47.                BRION       1185\n",
      "  48.        Frank Esports       1184\n",
      "  49.          paiN Gaming       1183\n",
      "  50.      Vikings Esports       1174\n",
      "  51.            Immortals       1155\n",
      "  52. Fukuoka HAWKS gaming       1147\n",
      "  53.    Deep Cross Gaming       1147\n",
      "  54.                 LOUD       1144\n",
      "  55.       Estral Esports       1137\n",
      "  56.          Team Secret       1134\n",
      "  57.          Team Whales       1128\n",
      "  58.           RED Canids       1128\n",
      "  59.       Sengoku Gaming       1125\n",
      "  60.           Keyd Stars       1120\n",
      "  61.               J Team       1117\n",
      "  62.   DetonatioN FocusMe       1106\n",
      "  63.               Isurus       1101\n",
      "  64.        FURIA Esports       1078\n",
      "  65.     CERBERUS Esports       1077\n",
      "  66.           Team Flash       1069\n",
      "  67.             Infinity       1069\n",
      "  68.                Fluxo       1068\n",
      "  69.            HELL PIGS       1063\n",
      "  70.                 INTZ       1055\n",
      "  71.   West Point Esports       1053\n",
      "  72.     MGN Blue Esports       1053\n",
      "  73.                  LOS       1048\n",
      "  74.       KaBuM! Esports       1046\n",
      "  75.             Leviatán       1027\n",
      "  76.            Six Karma       1024\n",
      "  77.              Liberty       1024\n",
      "  78.           V3 Esports       1000\n",
      "  79.  Burning Core Toyama       1000\n",
      "  80.           AXIZ CREST       1000\n"
     ]
    }
   ],
   "source": [
    "gt.plot()"
   ]
  },
  {
   "cell_type": "markdown",
   "id": "b83903e0-eebc-413e-b9d6-5f76c10a00c1",
   "metadata": {},
   "source": [
    "## Simulation Model"
   ]
  },
  {
   "cell_type": "code",
   "execution_count": 46,
   "id": "d94aa30a-9590-4959-aca1-fad4db4ab2a7",
   "metadata": {},
   "outputs": [],
   "source": [
    "from solutions.models import Role, MetaData, LoLTeam, LoLSolver\n",
    "from rstt import GaussianPlayer, Duel\n",
    "\n",
    "roles = {r: w for r, w in zip(Role, [0.1, 0.25, 0.2, 0.3, 0.15])}\n",
    "blue = GaussianPlayer('BlueSide', mu=1500, sigma=75)\n",
    "red = GaussianPlayer('RedSide', mu=1500, sigma=75)\n",
    "meta = MetaData(roles, blue, red)\n",
    "solver = LoLSolver(meta=meta)\n"
   ]
  },
  {
   "cell_type": "code",
   "execution_count": 52,
   "id": "f91d0b6b-23de-4c6b-a518-85d9db953316",
   "metadata": {},
   "outputs": [
    {
     "name": "stdout",
     "output_type": "stream",
     "text": [
      "1.9745028479064786 [0.633830431295863, 0.3661695687041369]\n",
      "-93.02141088461462 [0.5459015541533843, 0.45409844584661574]\n",
      "187.17853635234405 [0.778928258467128, 0.22107174153287198]\n",
      "61.35180131984748 [0.6849368901653827, 0.3150631098346173]\n",
      "91.63580281117629 [0.7094620672894432, 0.2905379327105569]\n",
      "7.03235369014601 [0.6383235252171606, 0.3616764747828394]\n",
      "130.77730165991557 [0.7394253486509589, 0.2605746513490411]\n",
      "20.294460487353263 [0.6499888885368625, 0.3500111114631374]\n",
      "24.331813497555686 [0.653505562987143, 0.346494437012857]\n",
      "6.234893078597679 [0.637616689743641, 0.3623833102563589]\n",
      "100.89226260286227 [0.7167294252424954, 0.2832705747575046]\n",
      "62.48164887813414 [0.6858718298871632, 0.3141281701128368]\n",
      "-141.88220949894503 [0.4991535997913217, 0.5008464002086782]\n",
      "3.7849510165783613 [0.6354414496553795, 0.36455855034462054]\n",
      "-181.8689597257728 [0.46087007270049835, 0.5391299272995016]\n",
      "-90.02408661557456 [0.54875144670459, 0.4512485532954101]\n",
      "23.558063128527692 [0.652832882938486, 0.34716711706151404]\n",
      "-43.44431113508176 [0.5925178307888976, 0.40748216921110236]\n",
      "52.73426013771791 [0.6777569566891972, 0.32224304331080267]\n",
      "-9.99973890179308 [0.6231011651570898, 0.3768988348429102]\n"
     ]
    }
   ],
   "source": [
    "team1 = LoLTeam('TeamBlue', {r: Player('dummy', 1641) for r in Role})\n",
    "team2 = LoLTeam('TeamRed', {r: Player('dummy', 1500) for r in Role})\n",
    "\n",
    "for _ in range(20):\n",
    "    meta.update({})\n",
    "    print(meta.blue().level() - meta.red().level(), solver.probabilities(Duel(team1, team2)))"
   ]
  },
  {
   "cell_type": "code",
   "execution_count": 53,
   "id": "1d990515-b63a-4647-add9-25e9357fb4bf",
   "metadata": {},
   "outputs": [
    {
     "data": {
      "text/plain": [
       "1641.0"
      ]
     },
     "execution_count": 53,
     "metadata": {},
     "output_type": "execute_result"
    }
   ],
   "source": [
    "team1.level(meta.weights())"
   ]
  },
  {
   "cell_type": "code",
   "execution_count": null,
   "id": "d8542056-a349-4677-a276-863a48385d7e",
   "metadata": {},
   "outputs": [],
   "source": []
  }
 ],
 "metadata": {
  "kernelspec": {
   "display_name": "Python 3 (ipykernel)",
   "language": "python",
   "name": "python3"
  },
  "language_info": {
   "codemirror_mode": {
    "name": "ipython",
    "version": 3
   },
   "file_extension": ".py",
   "mimetype": "text/x-python",
   "name": "python",
   "nbconvert_exporter": "python",
   "pygments_lexer": "ipython3",
   "version": "3.12.2"
  }
 },
 "nbformat": 4,
 "nbformat_minor": 5
}
